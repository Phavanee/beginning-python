{
 "cells": [
  {
   "cell_type": "code",
   "execution_count": 1,
   "id": "41ebb622-7c5c-460d-bb16-b4f08ca4c39c",
   "metadata": {
    "jp-MarkdownHeadingCollapsed": true
   },
   "outputs": [],
   "source": [
    "# NUMPY IS A MULTIDIMENSIONAL ARRAY LIBRARY\n",
    "# SO YOU CAN STORE LIKE\n",
    "# 1D ARRAY, 2D ARRAYS, 3D ARRAYS\n",
    "\n",
    "# NUMPY VS LISTS\n",
    "# LISTS ARE SO SLOW. NUMPY IS SO FAST\n",
    "# BECAUSE NUMPY USES FIXED TYPES\n",
    "# FOR AN ELEMENT IN A LIST, LOTS OF INFO IS STORED ABOUT THE ELEMENT: SIZE, REFERENCE COUNT, OBJECT TYPE, OBJECT VALUE\n",
    "# IT IS FASTER TO READ LESS BYTES OF MEMORY MAKING NUMPY FASTER\n",
    "# WHEN ITERATING THROUGH EACH ITEM, BECAUSE NUMPY IS FIXED TYPE SO NO TYPE CHECKING IS NEEDED\n",
    "# ALSO, NUMPY USES CONTIGUOUS MEMORY\n",
    "# BENEFITS: SIMD (SINGLE INSTRUCTION MULTIPLE DATA) VECTOR PROCESSING, EFFECTIVE CACHE UTILIZATION\n",
    "\n",
    "# LISTS: INSERTION, DELETION, APPENDING, CONCATENATION\n",
    "# NUMPY: INSERTION, DELETION, APPENDING, CONCATENATION, ETC.\n",
    "\n",
    "# LISTS: a = [1,3,5], b = [1,2,3], a*b = ERROR\n",
    "# NUMPY: a = np.array([1,3,5]), b = np.array([1,2,3]), a*b = np.array([1,6,15])\n",
    "\n",
    "# applications of numpy?\n",
    "# kind of like matlab replacement, but scikit scipi probably has more\n",
    "# useful for plotting (matplotlib)\n",
    "# backend (pandas, connect 4, digital photography)\n",
    "# machine learning"
   ]
  },
  {
   "cell_type": "code",
   "execution_count": 3,
   "id": "90b1c1b3-6e84-4fec-9d21-15bf86672952",
   "metadata": {},
   "outputs": [],
   "source": [
    "import numpy as np"
   ]
  },
  {
   "cell_type": "markdown",
   "id": "90278d25-d439-47ec-a5b2-b21624240132",
   "metadata": {},
   "source": [
    "<h3>the basics</h3>"
   ]
  },
  {
   "cell_type": "code",
   "execution_count": 4,
   "id": "6c0bced6-3535-48a3-841f-77bdb6ed40ba",
   "metadata": {},
   "outputs": [],
   "source": [
    "a = np.array([1,2,3], dtype = 'int16')     # 1d array. np.array is a function so use ()\n",
    "# CHANGE DEFAULT TYPE FROM INT32 -> INT16"
   ]
  },
  {
   "cell_type": "code",
   "execution_count": 6,
   "id": "1353e11f-5cb3-4e8d-ae74-e21200f73b4b",
   "metadata": {},
   "outputs": [
    {
     "data": {
      "text/plain": [
       "array([[9., 8., 7.],\n",
       "       [6., 5., 4.]])"
      ]
     },
     "execution_count": 6,
     "metadata": {},
     "output_type": "execute_result"
    }
   ],
   "source": [
    "b = np.array([[9.0,8.0,7.0],[6.0,5.0,4.0]])\n",
    "b"
   ]
  },
  {
   "cell_type": "code",
   "execution_count": 9,
   "id": "4f552379-cb76-41e6-97be-57b8f9cdaf03",
   "metadata": {},
   "outputs": [
    {
     "data": {
      "text/plain": [
       "2"
      ]
     },
     "execution_count": 9,
     "metadata": {},
     "output_type": "execute_result"
    }
   ],
   "source": [
    "# GET DIMENSION OF NUMPY ARRAY\n",
    "b.ndim"
   ]
  },
  {
   "cell_type": "code",
   "execution_count": 10,
   "id": "3253a02d-4576-4bab-a93d-ecc64c26cee6",
   "metadata": {},
   "outputs": [
    {
     "data": {
      "text/plain": [
       "(3,)"
      ]
     },
     "execution_count": 10,
     "metadata": {},
     "output_type": "execute_result"
    }
   ],
   "source": [
    "# GET SHAPE\n",
    "a.shape"
   ]
  },
  {
   "cell_type": "code",
   "execution_count": 12,
   "id": "dc6ba5f2-8dfc-4b7c-99c5-c543aec9e16b",
   "metadata": {},
   "outputs": [
    {
     "data": {
      "text/plain": [
       "24"
      ]
     },
     "execution_count": 12,
     "metadata": {},
     "output_type": "execute_result"
    }
   ],
   "source": [
    "# GET TYPE\n",
    "a.dtype\n",
    "\n",
    "# GET SIZE OF ELEMENT IN BYTES\n",
    "a.itemsize\n",
    "\n",
    "# GET TOTAL ELEMENTS IN ARRAY (ARRAY SIZE)\n",
    "a.size\n",
    "\n",
    "# GET TOTAL SIZE OF ARRAY IN BYTES\n",
    "a.size * a.itemsize\n",
    "a.nbytes"
   ]
  },
  {
   "cell_type": "markdown",
   "id": "708b17d0-b758-42cd-9a78-6c8d18b1d7f5",
   "metadata": {},
   "source": [
    "<h3>accessing/changing specific elements, rows, columns, etc</h3>"
   ]
  },
  {
   "cell_type": "code",
   "execution_count": 13,
   "id": "34da62c1-9e31-4e9a-b090-834650090aaf",
   "metadata": {},
   "outputs": [
    {
     "name": "stdout",
     "output_type": "stream",
     "text": [
      "[[ 1  2  3  4  5  6  7]\n",
      " [ 8  9 10 11 12 13 14]]\n",
      "(2, 7)\n"
     ]
    }
   ],
   "source": [
    "a = np.array([[1,2,3,4,5,6,7],[8,9,10,11,12,13,14]])\n",
    "print(a)\n",
    "print(a.shape)"
   ]
  },
  {
   "cell_type": "code",
   "execution_count": 15,
   "id": "9f973046-468e-4f2d-aba8-bf02b24617e6",
   "metadata": {},
   "outputs": [
    {
     "data": {
      "text/plain": [
       "13"
      ]
     },
     "execution_count": 15,
     "metadata": {},
     "output_type": "execute_result"
    }
   ],
   "source": [
    "# getting a sepcific element: [r,c]\n",
    "a[1,5]\n",
    "a[1,-2]"
   ]
  },
  {
   "cell_type": "code",
   "execution_count": 16,
   "id": "3a10324c-e599-4d9e-9c58-187186c10bf1",
   "metadata": {},
   "outputs": [
    {
     "data": {
      "text/plain": [
       "array([1, 2, 3, 4, 5, 6, 7])"
      ]
     },
     "execution_count": 16,
     "metadata": {},
     "output_type": "execute_result"
    }
   ],
   "source": [
    "# get a specific row\n",
    "a[0, :]"
   ]
  },
  {
   "cell_type": "code",
   "execution_count": 17,
   "id": "5c90745d-543b-4ca1-8d26-031754e4a528",
   "metadata": {},
   "outputs": [
    {
     "data": {
      "text/plain": [
       "array([ 3, 10])"
      ]
     },
     "execution_count": 17,
     "metadata": {},
     "output_type": "execute_result"
    }
   ],
   "source": [
    "# get a specific column\n",
    "a[:, 2]"
   ]
  },
  {
   "cell_type": "code",
   "execution_count": 19,
   "id": "818ef2aa-c5ad-4fb9-88ad-51a0cc4fa8f4",
   "metadata": {},
   "outputs": [
    {
     "data": {
      "text/plain": [
       "array([2, 4, 6])"
      ]
     },
     "execution_count": 19,
     "metadata": {},
     "output_type": "execute_result"
    }
   ],
   "source": [
    "# getting a little more fancy [startindex:endindex:stepsize]\n",
    "a[0,1:6:2]\n",
    "a[0,1:-1:2]"
   ]
  },
  {
   "cell_type": "code",
   "execution_count": 21,
   "id": "a114392c-2c06-4591-8ad9-fc90de7a5a57",
   "metadata": {},
   "outputs": [
    {
     "name": "stdout",
     "output_type": "stream",
     "text": [
      "[[ 1  2  3  4  5  6  7]\n",
      " [ 8  9 10 11 12 20 14]]\n"
     ]
    }
   ],
   "source": [
    "# changing an element in an array\n",
    "a[1,5] = 20\n",
    "print(a)\n",
    "\n",
    "a[1,5] = 13"
   ]
  },
  {
   "cell_type": "code",
   "execution_count": 25,
   "id": "1dc4fc7f-36af-4d25-a460-9ab28ccc4ed9",
   "metadata": {},
   "outputs": [
    {
     "name": "stdout",
     "output_type": "stream",
     "text": [
      "[[ 1  2  5  4  5  6  7]\n",
      " [ 8  9  5 11 12 13 14]]\n",
      "[[ 1  2  3  4  5  6  7]\n",
      " [ 8  9 10 11 12 13 14]]\n"
     ]
    }
   ],
   "source": [
    "# changing multiple elements in an array\n",
    "a[:,2] = 5\n",
    "print(a)\n",
    "\n",
    "a[:,2] = [3,10]\n",
    "print(a)"
   ]
  },
  {
   "cell_type": "code",
   "execution_count": 26,
   "id": "60ab8163-7bdf-4405-b3d4-1aa23283e499",
   "metadata": {},
   "outputs": [
    {
     "name": "stdout",
     "output_type": "stream",
     "text": [
      "[[[1 2]\n",
      "  [3 4]]\n",
      "\n",
      " [[5 6]\n",
      "  [7 8]]]\n"
     ]
    }
   ],
   "source": [
    "# 3d example\n",
    "b = np.array([[[1,2],[3,4]],[[5,6],[7,8]]])\n",
    "print(b)"
   ]
  },
  {
   "cell_type": "code",
   "execution_count": 28,
   "id": "dba6e0ec-3b1b-4791-b5fb-b1c648b0eb13",
   "metadata": {},
   "outputs": [
    {
     "data": {
      "text/plain": [
       "array([3, 4])"
      ]
     },
     "execution_count": 28,
     "metadata": {},
     "output_type": "execute_result"
    }
   ],
   "source": [
    "# get specific element (work outside in)\n",
    "b[0,1,:]"
   ]
  },
  {
   "cell_type": "code",
   "execution_count": 30,
   "id": "394a1342-24a4-4c6f-aea4-a729ecb31190",
   "metadata": {},
   "outputs": [
    {
     "name": "stdout",
     "output_type": "stream",
     "text": [
      "[[[ 9 10]\n",
      "  [11 12]]\n",
      "\n",
      " [[ 5  6]\n",
      "  [ 7  8]]]\n"
     ]
    }
   ],
   "source": [
    "# replace\n",
    "b[0,:,:] = [[9,10],[11,12]]\n",
    "print(b)"
   ]
  },
  {
   "cell_type": "markdown",
   "id": "210a6da2-23e3-4dbc-803c-56f80072cb00",
   "metadata": {},
   "source": [
    "<h3>initializing different types of arrays</h3>"
   ]
  },
  {
   "cell_type": "code",
   "execution_count": 31,
   "id": "cc8686a8-98a5-446b-bd01-46fe37dd90ca",
   "metadata": {},
   "outputs": [
    {
     "data": {
      "text/plain": [
       "array([[[0., 0., 0.],\n",
       "        [0., 0., 0.],\n",
       "        [0., 0., 0.]],\n",
       "\n",
       "       [[0., 0., 0.],\n",
       "        [0., 0., 0.],\n",
       "        [0., 0., 0.]]])"
      ]
     },
     "execution_count": 31,
     "metadata": {},
     "output_type": "execute_result"
    }
   ],
   "source": [
    "# all 0s matrix\n",
    "np.zeros((2,3,3))"
   ]
  },
  {
   "cell_type": "code",
   "execution_count": 33,
   "id": "f65ac247-3837-4820-a57c-d496c0056bfc",
   "metadata": {},
   "outputs": [
    {
     "data": {
      "text/plain": [
       "array([1, 1, 1, 1, 1], dtype=int32)"
      ]
     },
     "execution_count": 33,
     "metadata": {},
     "output_type": "execute_result"
    }
   ],
   "source": [
    "# all 1s matrix\n",
    "np.ones(5, dtype = 'int32')"
   ]
  },
  {
   "cell_type": "code",
   "execution_count": 35,
   "id": "c1dfa0cc-3997-43c7-b4ed-9812fd273960",
   "metadata": {},
   "outputs": [
    {
     "data": {
      "text/plain": [
       "array([[101, 101],\n",
       "       [101, 101]], dtype=int16)"
      ]
     },
     "execution_count": 35,
     "metadata": {},
     "output_type": "execute_result"
    }
   ],
   "source": [
    "# any other number\n",
    "np.full((2,2),101, dtype = 'int16')"
   ]
  },
  {
   "cell_type": "code",
   "execution_count": 36,
   "id": "98435f53-19a9-4615-885a-849b997a4056",
   "metadata": {},
   "outputs": [
    {
     "data": {
      "text/plain": [
       "array([[4, 4, 4, 4, 4, 4, 4],\n",
       "       [4, 4, 4, 4, 4, 4, 4]])"
      ]
     },
     "execution_count": 36,
     "metadata": {},
     "output_type": "execute_result"
    }
   ],
   "source": [
    "# any other number (full-like) <- follows shape of an array youve made before\n",
    "np.full_like(a,4)"
   ]
  },
  {
   "cell_type": "code",
   "execution_count": 38,
   "id": "2010e3cc-9b04-45da-b3ec-a842deb859c7",
   "metadata": {},
   "outputs": [
    {
     "data": {
      "text/plain": [
       "array([[0.11606721, 0.74057626],\n",
       "       [0.89593628, 0.06665184],\n",
       "       [0.04038864, 0.80701735],\n",
       "       [0.03907252, 0.7290141 ]])"
      ]
     },
     "execution_count": 38,
     "metadata": {},
     "output_type": "execute_result"
    }
   ],
   "source": [
    "# initialize matrix of random decimal numbers\n",
    "np.random.rand(4,2)"
   ]
  },
  {
   "cell_type": "code",
   "execution_count": 39,
   "id": "404daabf-5021-4373-a03f-888798dc4155",
   "metadata": {},
   "outputs": [
    {
     "data": {
      "text/plain": [
       "array([[0.75784468, 0.84295253, 0.91567646, 0.75867711, 0.50460608,\n",
       "        0.04163781, 0.41491521],\n",
       "       [0.38605602, 0.70559996, 0.30819321, 0.44199797, 0.18436325,\n",
       "        0.93303826, 0.88708506]])"
      ]
     },
     "execution_count": 39,
     "metadata": {},
     "output_type": "execute_result"
    }
   ],
   "source": [
    "# random matrix that follows a specific shape:\n",
    "np.random.random_sample(a.shape)"
   ]
  },
  {
   "cell_type": "code",
   "execution_count": 44,
   "id": "4b834f80-a656-47d9-85d3-b0f473936b4c",
   "metadata": {},
   "outputs": [
    {
     "data": {
      "text/plain": [
       "array([[4, 5, 4],\n",
       "       [2, 0, 3],\n",
       "       [7, 1, 5]])"
      ]
     },
     "execution_count": 44,
     "metadata": {},
     "output_type": "execute_result"
    }
   ],
   "source": [
    "# random integer values only\n",
    "np.random.randint(8,size = (3,3))         # start (default 0), stop, size"
   ]
  },
  {
   "cell_type": "code",
   "execution_count": 45,
   "id": "36266592-4e10-4afe-89a1-a7f0883a4dbb",
   "metadata": {},
   "outputs": [
    {
     "data": {
      "text/plain": [
       "array([[1., 0., 0.],\n",
       "       [0., 1., 0.],\n",
       "       [0., 0., 1.]])"
      ]
     },
     "execution_count": 45,
     "metadata": {},
     "output_type": "execute_result"
    }
   ],
   "source": [
    "# identity matrix\n",
    "np.identity(3)"
   ]
  },
  {
   "cell_type": "code",
   "execution_count": 47,
   "id": "aecabe3b-eaae-4e79-a99d-8dd3472aa115",
   "metadata": {},
   "outputs": [
    {
     "name": "stdout",
     "output_type": "stream",
     "text": [
      "[[1 2 3]\n",
      " [1 2 3]\n",
      " [1 2 3]]\n"
     ]
    }
   ],
   "source": [
    "# repeating arrays\n",
    "arr = np.array([[1,2,3]])\n",
    "r1 = np.repeat(arr,3,axis = 0)         # repeat on the 0th axis\n",
    "print(r1)"
   ]
  },
  {
   "cell_type": "code",
   "execution_count": 55,
   "id": "452e40f1-a829-4ae0-b337-e66c6b56b610",
   "metadata": {},
   "outputs": [
    {
     "name": "stdout",
     "output_type": "stream",
     "text": [
      "[[1 1 1 1 1]\n",
      " [1 0 0 0 1]\n",
      " [1 0 9 0 1]\n",
      " [1 0 0 0 1]\n",
      " [1 1 1 1 1]]\n"
     ]
    }
   ],
   "source": [
    "# 1 1 1 1 1\n",
    "# 1 0 0 0 1\n",
    "# 1 0 9 0 1\n",
    "# 1 0 0 0 1\n",
    "# 1 1 1 1 1\n",
    "c = np.ones((5,5), dtype = 'int32')\n",
    "c[1:-1,1:-1] = 0\n",
    "c[2,2] = 9\n",
    "print(c)"
   ]
  },
  {
   "cell_type": "markdown",
   "id": "4bb4a9b7-da81-4cca-9262-d5cd1b39d105",
   "metadata": {},
   "source": [
    "<h3>be careful when copying arrays!!!</h3>"
   ]
  },
  {
   "cell_type": "code",
   "execution_count": 57,
   "id": "54af0a81-045c-46be-a692-261b05bdda65",
   "metadata": {},
   "outputs": [
    {
     "data": {
      "text/plain": [
       "array([1, 2, 3])"
      ]
     },
     "execution_count": 57,
     "metadata": {},
     "output_type": "execute_result"
    }
   ],
   "source": [
    "a = np.array([1,2,3])\n",
    "b = a\n",
    "b"
   ]
  },
  {
   "cell_type": "code",
   "execution_count": 58,
   "id": "6546e8df-1a07-40e2-9955-d651d7612b35",
   "metadata": {},
   "outputs": [
    {
     "name": "stdout",
     "output_type": "stream",
     "text": [
      "[100   2   3]\n",
      "[100   2   3]\n"
     ]
    }
   ],
   "source": [
    "b[0] = 100\n",
    "print(b)\n",
    "print(a)              # value of b changes with a. this is because b = a makes them both point to the same thing"
   ]
  },
  {
   "cell_type": "code",
   "execution_count": 61,
   "id": "5bf56a1b-1297-421d-95ce-5f8c8e918dd3",
   "metadata": {},
   "outputs": [
    {
     "name": "stdout",
     "output_type": "stream",
     "text": [
      "[1 2 3]\n",
      "[1 2 3]\n",
      "[100   2   3]\n"
     ]
    }
   ],
   "source": [
    "a[0] = 1\n",
    "b = a.copy()\n",
    "print(b)\n",
    "b[0] = 100\n",
    "print(a)\n",
    "print(b)"
   ]
  },
  {
   "cell_type": "markdown",
   "id": "4fa11435-9f75-492d-a581-145209b44148",
   "metadata": {},
   "source": [
    "<h3>mathematics</h3>"
   ]
  },
  {
   "cell_type": "code",
   "execution_count": 62,
   "id": "8f34efd8-00ca-4c9d-9a05-3766631181da",
   "metadata": {},
   "outputs": [
    {
     "name": "stdout",
     "output_type": "stream",
     "text": [
      "[1 2 3 4]\n"
     ]
    }
   ],
   "source": [
    "a = np.array([1,2,3,4])\n",
    "print(a)"
   ]
  },
  {
   "cell_type": "code",
   "execution_count": 63,
   "id": "255f438e-408e-40e4-aad5-0a5c6dac2d6a",
   "metadata": {},
   "outputs": [
    {
     "data": {
      "text/plain": [
       "array([3, 4, 5, 6])"
      ]
     },
     "execution_count": 63,
     "metadata": {},
     "output_type": "execute_result"
    }
   ],
   "source": [
    "a + 2"
   ]
  },
  {
   "cell_type": "code",
   "execution_count": 64,
   "id": "e2bafab8-baf2-44bd-bc48-59a9a3d61f64",
   "metadata": {},
   "outputs": [
    {
     "data": {
      "text/plain": [
       "array([-1,  0,  1,  2])"
      ]
     },
     "execution_count": 64,
     "metadata": {},
     "output_type": "execute_result"
    }
   ],
   "source": [
    "a - 2"
   ]
  },
  {
   "cell_type": "code",
   "execution_count": 65,
   "id": "768af8d8-6ad2-493e-b877-a716279d5b9a",
   "metadata": {},
   "outputs": [
    {
     "data": {
      "text/plain": [
       "array([2, 4, 6, 8])"
      ]
     },
     "execution_count": 65,
     "metadata": {},
     "output_type": "execute_result"
    }
   ],
   "source": [
    "a * 2"
   ]
  },
  {
   "cell_type": "code",
   "execution_count": 66,
   "id": "7b2cb895-9405-4dd1-aae2-ee8739070425",
   "metadata": {},
   "outputs": [
    {
     "data": {
      "text/plain": [
       "array([0.5, 1. , 1.5, 2. ])"
      ]
     },
     "execution_count": 66,
     "metadata": {},
     "output_type": "execute_result"
    }
   ],
   "source": [
    "a / 2"
   ]
  },
  {
   "cell_type": "code",
   "execution_count": 68,
   "id": "9d0db6d1-551f-478a-8a0f-3fb29153340e",
   "metadata": {},
   "outputs": [
    {
     "data": {
      "text/plain": [
       "array([2, 2, 4, 4])"
      ]
     },
     "execution_count": 68,
     "metadata": {},
     "output_type": "execute_result"
    }
   ],
   "source": [
    "b = np.array([1,0,1,0])\n",
    "a + b"
   ]
  },
  {
   "cell_type": "code",
   "execution_count": 69,
   "id": "41f7a31b-da94-470b-93f3-d93f1dc9b6e9",
   "metadata": {},
   "outputs": [
    {
     "data": {
      "text/plain": [
       "array([ 1,  4,  9, 16])"
      ]
     },
     "execution_count": 69,
     "metadata": {},
     "output_type": "execute_result"
    }
   ],
   "source": [
    "a ** 2"
   ]
  },
  {
   "cell_type": "code",
   "execution_count": 70,
   "id": "f3e04c41-444d-487f-aab9-576fedec8420",
   "metadata": {},
   "outputs": [
    {
     "data": {
      "text/plain": [
       "array([ 0.84147098,  0.90929743,  0.14112001, -0.7568025 ])"
      ]
     },
     "execution_count": 70,
     "metadata": {},
     "output_type": "execute_result"
    }
   ],
   "source": [
    "# take the sin of all values\n",
    "np.sin(a)\n",
    "\n",
    "# np.cos(a)\n",
    "# np.tan(a)\n",
    "# etc."
   ]
  },
  {
   "cell_type": "markdown",
   "id": "d473d2c5-d601-4d3c-941d-dfba67a4735f",
   "metadata": {},
   "source": [
    "<h3>linear algebra</h3>"
   ]
  },
  {
   "cell_type": "code",
   "execution_count": 71,
   "id": "c15952f5-eeac-41f1-811a-2c6a1066dd79",
   "metadata": {},
   "outputs": [
    {
     "name": "stdout",
     "output_type": "stream",
     "text": [
      "[[1. 1. 1.]\n",
      " [1. 1. 1.]]\n",
      "[[2 2]\n",
      " [2 2]\n",
      " [2 2]]\n"
     ]
    },
    {
     "data": {
      "text/plain": [
       "array([[6., 6.],\n",
       "       [6., 6.]])"
      ]
     },
     "execution_count": 71,
     "metadata": {},
     "output_type": "execute_result"
    }
   ],
   "source": [
    "# matrix multiplication\n",
    "a = np.ones((2,3))\n",
    "print(a)\n",
    "\n",
    "b = np.full((3,2),2)\n",
    "print(b)\n",
    "\n",
    "np.matmul(a,b)"
   ]
  },
  {
   "cell_type": "code",
   "execution_count": 72,
   "id": "f526ed3d-afeb-4bf5-b50a-099aa71ac3c2",
   "metadata": {},
   "outputs": [
    {
     "data": {
      "text/plain": [
       "1.0"
      ]
     },
     "execution_count": 72,
     "metadata": {},
     "output_type": "execute_result"
    }
   ],
   "source": [
    "# find the determinant\n",
    "c = np.identity(3)\n",
    "np.linalg.det(c)"
   ]
  },
  {
   "cell_type": "code",
   "execution_count": null,
   "id": "8a6d91c8-ed83-441f-8b5c-30fd0a020612",
   "metadata": {},
   "outputs": [],
   "source": [
    "# reference docs at scipy\n",
    "\n",
    "# determinant\n",
    "# trace\n",
    "# singular vector decomposition\n",
    "# eigenvalues\n",
    "# matrix norm\n",
    "# inverse\n",
    "# etc..."
   ]
  },
  {
   "cell_type": "markdown",
   "id": "d374833b-4920-4c7a-8d1b-5d3c5daf66a6",
   "metadata": {},
   "source": [
    "<h3>statistics</h3>"
   ]
  },
  {
   "cell_type": "code",
   "execution_count": 80,
   "id": "d6aefc19-02f9-4934-addd-b53f580f94c0",
   "metadata": {},
   "outputs": [
    {
     "data": {
      "text/plain": [
       "array([[1, 2, 3],\n",
       "       [4, 5, 6]])"
      ]
     },
     "execution_count": 80,
     "metadata": {},
     "output_type": "execute_result"
    }
   ],
   "source": [
    "stats = np.array([[1,2,3],[4,5,6]])\n",
    "stats"
   ]
  },
  {
   "cell_type": "code",
   "execution_count": 81,
   "id": "274e0c4d-1433-4b92-84f8-b4f85280613a",
   "metadata": {},
   "outputs": [
    {
     "data": {
      "text/plain": [
       "array([1, 4])"
      ]
     },
     "execution_count": 81,
     "metadata": {},
     "output_type": "execute_result"
    }
   ],
   "source": [
    "np.min(stats, axis=1)    # axis 0 is row going down and axis 1 is column going across kinda idk"
   ]
  },
  {
   "cell_type": "code",
   "execution_count": 76,
   "id": "9bbe8290-e831-4389-9a6f-5797a06bbaa1",
   "metadata": {},
   "outputs": [
    {
     "data": {
      "text/plain": [
       "6"
      ]
     },
     "execution_count": 76,
     "metadata": {},
     "output_type": "execute_result"
    }
   ],
   "source": [
    "np.max(stats)"
   ]
  },
  {
   "cell_type": "markdown",
   "id": "d30940b0-245a-479a-9a41-c09ca2e32390",
   "metadata": {},
   "source": [
    "<h3>reorganizing arrays</h3>"
   ]
  },
  {
   "cell_type": "code",
   "execution_count": 85,
   "id": "23d147c5-4f94-42da-9922-ece86ed95d8d",
   "metadata": {},
   "outputs": [
    {
     "name": "stdout",
     "output_type": "stream",
     "text": [
      "[[1 2 3 4]\n",
      " [5 6 7 8]]\n",
      "[[[1 2]\n",
      "  [3 4]]\n",
      "\n",
      " [[5 6]\n",
      "  [7 8]]]\n"
     ]
    }
   ],
   "source": [
    "# reshaping arrays\n",
    "before = np.array([[1,2,3,4],[5,6,7,8]])\n",
    "print(before)\n",
    "\n",
    "after = before.reshape((2,2,2))\n",
    "print(after)"
   ]
  },
  {
   "cell_type": "code",
   "execution_count": 88,
   "id": "e934df71-3fd4-4f8b-82b0-ef7f96a97063",
   "metadata": {},
   "outputs": [
    {
     "data": {
      "text/plain": [
       "array([[1, 2, 3, 4],\n",
       "       [5, 6, 7, 8],\n",
       "       [5, 6, 7, 8],\n",
       "       [5, 6, 7, 8]])"
      ]
     },
     "execution_count": 88,
     "metadata": {},
     "output_type": "execute_result"
    }
   ],
   "source": [
    "# vertically stacking vectors\n",
    "v1 = np.array([1,2,3,4])\n",
    "v2 = np.array([5,6,7,8])\n",
    "\n",
    "np.vstack([v1,v2,v2,v2])"
   ]
  },
  {
   "cell_type": "code",
   "execution_count": 89,
   "id": "3ddcc45c-396a-4884-ab0d-67b982722aeb",
   "metadata": {},
   "outputs": [
    {
     "data": {
      "text/plain": [
       "array([[1., 1., 0., 0.],\n",
       "       [1., 1., 0., 0.],\n",
       "       [1., 1., 0., 0.],\n",
       "       [1., 1., 0., 0.]])"
      ]
     },
     "execution_count": 89,
     "metadata": {},
     "output_type": "execute_result"
    }
   ],
   "source": [
    "# horizontal stacking\n",
    "h1 = np.ones((4,1))\n",
    "h2 = np.zeros((4,2))\n",
    "\n",
    "np.hstack([h1,h1,h2])"
   ]
  },
  {
   "cell_type": "markdown",
   "id": "0fb1eff5-5f89-460f-a1c8-65d4f6e87071",
   "metadata": {},
   "source": [
    "<h3>miscellanous</h3>"
   ]
  },
  {
   "cell_type": "markdown",
   "id": "aee97818-a3a6-4002-a04a-94b19126c7f6",
   "metadata": {},
   "source": [
    "<h5>load data from file</h5>"
   ]
  },
  {
   "cell_type": "code",
   "execution_count": 96,
   "id": "a8828045-374c-4cd9-9a0c-fa759f948baa",
   "metadata": {},
   "outputs": [
    {
     "data": {
      "text/plain": [
       "array([[  1,  13,  21,  11, 196,  75,   4,   3,  34,   6,   7,   8,   0,\n",
       "          1,   2,   3,   4,   5],\n",
       "       [  3,  42,  12,  33, 766,  75,   4,  55,   6,   4,   3,   4,   5,\n",
       "          6,   7,   0,  11,  12],\n",
       "       [  1,  22,  33,  11, 999,  11,   2,   1,  78,   0,   1,   2,   9,\n",
       "          8,   7,   1,  76,  88]], dtype=int32)"
      ]
     },
     "execution_count": 96,
     "metadata": {},
     "output_type": "execute_result"
    }
   ],
   "source": [
    "filedata = np.genfromtxt('data.txt', delimiter = ',')\n",
    "filedata = filedata.astype('int32')                   # must be reassigned because .astype is not destructive. int32 and float have different sizes and it doesnt really make sense to change each value. makes more sense to make a copy of it\n",
    "filedata"
   ]
  },
  {
   "cell_type": "markdown",
   "id": "4f08d810-f65f-444b-9eee-dbc03e425d3b",
   "metadata": {},
   "source": [
    "<h5>boolean masking and advanced indexing</h5>"
   ]
  },
  {
   "cell_type": "code",
   "execution_count": 97,
   "id": "c425597c-d7fe-42b3-ad4b-ccc135ffa6f5",
   "metadata": {},
   "outputs": [
    {
     "data": {
      "text/plain": [
       "array([[False, False, False, False,  True,  True, False, False, False,\n",
       "        False, False, False, False, False, False, False, False, False],\n",
       "       [False, False, False, False,  True,  True, False,  True, False,\n",
       "        False, False, False, False, False, False, False, False, False],\n",
       "       [False, False, False, False,  True, False, False, False,  True,\n",
       "        False, False, False, False, False, False, False,  True,  True]])"
      ]
     },
     "execution_count": 97,
     "metadata": {},
     "output_type": "execute_result"
    }
   ],
   "source": [
    "# where in filedata the value is greater than 50?\n",
    "filedata > 50"
   ]
  },
  {
   "cell_type": "code",
   "execution_count": 99,
   "id": "553fa1c9-5cbe-4cca-909e-2e9414e12431",
   "metadata": {},
   "outputs": [
    {
     "data": {
      "text/plain": [
       "array([196,  75, 766,  75,  55, 999,  78,  76,  88], dtype=int32)"
      ]
     },
     "execution_count": 99,
     "metadata": {},
     "output_type": "execute_result"
    }
   ],
   "source": [
    "filedata[filedata > 50]                   # returns indexes greater than 50"
   ]
  },
  {
   "cell_type": "code",
   "execution_count": 100,
   "id": "0c7d7d1e-7552-40f0-8da8-90d0805bbaa7",
   "metadata": {},
   "outputs": [
    {
     "data": {
      "text/plain": [
       "array([2, 3, 9])"
      ]
     },
     "execution_count": 100,
     "metadata": {},
     "output_type": "execute_result"
    }
   ],
   "source": [
    "# you can index with a list in numpy\n",
    "a = np.array([1,2,3,4,5,6,7,8,9])\n",
    "a[[1,2,8]]                # passing in a list and the list acts as the indexes that you want to select"
   ]
  },
  {
   "cell_type": "code",
   "execution_count": 102,
   "id": "43132e39-b430-4ba5-b5a4-5d1c79d68029",
   "metadata": {},
   "outputs": [
    {
     "data": {
      "text/plain": [
       "array([False, False, False, False,  True,  True, False,  True,  True,\n",
       "       False, False, False, False, False, False, False,  True,  True])"
      ]
     },
     "execution_count": 102,
     "metadata": {},
     "output_type": "execute_result"
    }
   ],
   "source": [
    "np.any(filedata > 50, axis = 0)          # going down each column (going through each row), is there any value greater than 50"
   ]
  },
  {
   "cell_type": "code",
   "execution_count": 103,
   "id": "efdaec16-2801-406d-934c-fd1945c718e0",
   "metadata": {},
   "outputs": [
    {
     "data": {
      "text/plain": [
       "array([False, False, False, False,  True, False, False, False, False,\n",
       "       False, False, False, False, False, False, False, False, False])"
      ]
     },
     "execution_count": 103,
     "metadata": {},
     "output_type": "execute_result"
    }
   ],
   "source": [
    "np.all(filedata > 50, axis = 0)          # going down where each row has the instance of being greater than 50 in value"
   ]
  },
  {
   "cell_type": "code",
   "execution_count": 105,
   "id": "2364c044-8f05-4fe9-943f-ed05c5d9943e",
   "metadata": {},
   "outputs": [
    {
     "data": {
      "text/plain": [
       "array([[False, False, False, False, False,  True, False, False, False,\n",
       "        False, False, False, False, False, False, False, False, False],\n",
       "       [False, False, False, False, False,  True, False,  True, False,\n",
       "        False, False, False, False, False, False, False, False, False],\n",
       "       [False, False, False, False, False, False, False, False,  True,\n",
       "        False, False, False, False, False, False, False,  True,  True]])"
      ]
     },
     "execution_count": 105,
     "metadata": {},
     "output_type": "execute_result"
    }
   ],
   "source": [
    "((filedata > 50) & (filedata < 100))          # all values greater than 50 but less than 100"
   ]
  },
  {
   "cell_type": "code",
   "execution_count": null,
   "id": "4e7716f3-5134-4d02-b372-5e8611c18922",
   "metadata": {},
   "outputs": [],
   "source": [
    "#  1  2  3  4  5\n",
    "#  6  7  8  9 10\n",
    "# 11 12 13 14 15\n",
    "# 16 17 18 19 20\n",
    "# 21 22 23 24 25\n",
    "# 26 27 28 29 30\n",
    "\n",
    "# to access 11,12,16,17\n",
    "# a[2:4, 0:2]\n",
    "\n",
    "# to access 2,8,14,20\n",
    "# a[[0,1,2,3],[1,2,3,4]]\n",
    "\n",
    "# to access 4,5,24,25,29,30\n",
    "# a[[0,4,5],[3,4]] // 3: // 3:5"
   ]
  }
 ],
 "metadata": {
  "kernelspec": {
   "display_name": "Python 3 (ipykernel)",
   "language": "python",
   "name": "python3"
  },
  "language_info": {
   "codemirror_mode": {
    "name": "ipython",
    "version": 3
   },
   "file_extension": ".py",
   "mimetype": "text/x-python",
   "name": "python",
   "nbconvert_exporter": "python",
   "pygments_lexer": "ipython3",
   "version": "3.10.12"
  }
 },
 "nbformat": 4,
 "nbformat_minor": 5
}
