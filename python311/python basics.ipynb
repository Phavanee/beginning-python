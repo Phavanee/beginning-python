{
 "cells": [
  {
   "cell_type": "code",
   "execution_count": 1,
   "id": "0f33ebea-0936-4a5e-ba5e-4dcef0fed2db",
   "metadata": {},
   "outputs": [
    {
     "name": "stdout",
     "output_type": "stream",
     "text": [
      "hello world\n"
     ]
    }
   ],
   "source": [
    "print(\"hello world\")                  # first python program!"
   ]
  },
  {
   "cell_type": "code",
   "execution_count": 2,
   "id": "50b05330-6a13-4fb5-8974-20d1e830a4a6",
   "metadata": {},
   "outputs": [
    {
     "name": "stdout",
     "output_type": "stream",
     "text": [
      "this is a triangle:\n",
      "   /|\n",
      "  / |\n",
      " /  |\n",
      "/___|\n"
     ]
    }
   ],
   "source": [
    "print(\"this is a triangle:\")\n",
    "print(\"   /|\")\n",
    "print(\"  / |\")\n",
    "print(\" /  |\")\n",
    "print(\"/___|\")"
   ]
  },
  {
   "cell_type": "code",
   "execution_count": 5,
   "id": "27dabbe8-2243-476b-928d-13e0dfe16289",
   "metadata": {},
   "outputs": [
    {
     "name": "stdout",
     "output_type": "stream",
     "text": [
      "i like someone :O\n",
      "his name is isaac\n",
      "we're the same age, 21\n",
      "but in 10 years, we'll be 31\n"
     ]
    }
   ],
   "source": [
    "name = \"isaac\"\n",
    "age = \"21\"\n",
    "print(\"i like someone :O\")\n",
    "print(\"his name is \" + name)\n",
    "print(\"we're the same age, \" + age)\n",
    "\n",
    "age = \"31\"\n",
    "print(\"but in 10 years, we'll be \" + age)\n",
    "\n",
    "# print(3*4+5)\n",
    "# print(2.04789)\n",
    "# print(10 % 3)"
   ]
  },
  {
   "cell_type": "code",
   "execution_count": 6,
   "id": "64caa0f5-6da1-4083-bd71-6d262d76752c",
   "metadata": {},
   "outputs": [],
   "source": [
    "# other data types:\n",
    "score = 40                 # int\n",
    "is_male = True             # bool\n",
    "sentence = \"meow meow\"     # string"
   ]
  },
  {
   "cell_type": "code",
   "execution_count": 10,
   "id": "6e1c4d68-e13c-4b64-85a2-5adfeda2b500",
   "metadata": {},
   "outputs": [
    {
     "name": "stdout",
     "output_type": "stream",
     "text": [
      "MEOW \" MEOWMEOW\n",
      "MEOW\n"
     ]
    }
   ],
   "source": [
    "# string thingies\n",
    "sentence = \"meow \\\" meow\"\n",
    "sentence2 = \"meow\\nmeow\"\n",
    "print((sentence + sentence2).upper())\n",
    "\n",
    "# sentence.lower()\n",
    "# sentence.isupper()\n",
    "# sentence.lower().isupper : FALSE\n",
    "# len(phrase)\n",
    "# sentence[0]     <- index of the character\n",
    "# sentence.index(\"meow\")        <- gives index where the thing you're searching starts\n",
    "# sentence.replace(\"meow\",\"arf\")"
   ]
  },
  {
   "cell_type": "code",
   "execution_count": 12,
   "id": "9473a660-e1b6-44f0-857f-960c3da3c2b3",
   "metadata": {},
   "outputs": [
    {
     "name": "stdout",
     "output_type": "stream",
     "text": [
      "5\n",
      "meow \" meow5\n"
     ]
    }
   ],
   "source": [
    "my_num = 5\n",
    "print(str(my_num))\n",
    "# print(sentence + my_num) -> error\n",
    "print(sentence + str(my_num))\n",
    "\n",
    "# pow(4,2)\n",
    "# max(4,6)\n",
    "# min(4,6)\n",
    "# round(47.8)"
   ]
  },
  {
   "cell_type": "code",
   "execution_count": 1,
   "id": "d82b0fe7-5253-4d28-8cb8-590ec3df5b2a",
   "metadata": {},
   "outputs": [
    {
     "name": "stdout",
     "output_type": "stream",
     "text": [
      "hello world\n"
     ]
    }
   ],
   "source": [
    "from math import *      # import python math\n",
    "\n",
    "# floor(4.5)\n",
    "# ceil(4.5)\n",
    "# sqrt(36)"
   ]
  },
  {
   "cell_type": "code",
   "execution_count": 15,
   "id": "842cd1df-aea7-4da5-a19a-f571f4bfc9e6",
   "metadata": {},
   "outputs": [
    {
     "name": "stdin",
     "output_type": "stream",
     "text": [
      "what's the weather like? \n",
      " hot\n"
     ]
    },
    {
     "name": "stdout",
     "output_type": "stream",
     "text": [
      "wow, it's hot there!\n"
     ]
    }
   ],
   "source": [
    "weather = input(\"what's the weather like? \\n\")\n",
    "print(\"wow, it's \" + weather + \" there!\")"
   ]
  },
  {
   "cell_type": "code",
   "execution_count": 19,
   "id": "51b29487-4200-4593-a6ca-443748ec38d9",
   "metadata": {},
   "outputs": [
    {
     "name": "stdin",
     "output_type": "stream",
     "text": [
      "give the first number:  2\n",
      "give the second number:  3.5\n"
     ]
    },
    {
     "name": "stdout",
     "output_type": "stream",
     "text": [
      "the sum is: 5.5\n"
     ]
    }
   ],
   "source": [
    "num1 = input(\"give the first number: \")\n",
    "num2 = input(\"give the second number: \")\n",
    "print(\"the sum is: \" + str(float(num1) + float(num2)))          # python saves input as strings by default "
   ]
  },
  {
   "cell_type": "code",
   "execution_count": 22,
   "id": "ad1dee7b-cb49-4be2-a7f4-c5685e5d48d4",
   "metadata": {},
   "outputs": [
    {
     "name": "stdout",
     "output_type": "stream",
     "text": [
      "['ryan', 'chrystea', 'isaac']\n",
      "isaac\n",
      "['ryan', 'chrystea']\n"
     ]
    }
   ],
   "source": [
    "# LISTS\n",
    "friends = [\"ryan\", \"chrystea\", \"isaac\"]\n",
    "funsies = [\"phanida\", 2, True]\n",
    "print(friends)\n",
    "print(friends[2])   # same as print(friends[-1])\n",
    "print(friends[0:2]) # from 0 to 2, but not including 2\n",
    "funsies[1] = 13"
   ]
  },
  {
   "cell_type": "code",
   "execution_count": 1,
   "id": "13798837-920c-4710-a1d9-c4c4e510e5fc",
   "metadata": {},
   "outputs": [
    {
     "name": "stdout",
     "output_type": "stream",
     "text": [
      "hello world\n"
     ]
    }
   ],
   "source": [
    "print(\"hello world\")"
   ]
  },
  {
   "cell_type": "code",
   "execution_count": 1,
   "id": "a103f974-c670-4c7b-a64b-97bfd5a82cc4",
   "metadata": {},
   "outputs": [
    {
     "name": "stdout",
     "output_type": "stream",
     "text": [
      "hello world\n"
     ]
    }
   ],
   "source": [
    "print(\"hello world\")"
   ]
  },
  {
   "cell_type": "code",
   "execution_count": 1,
   "id": "c82c1b23-4a5c-441f-a241-45d55411a18f",
   "metadata": {},
   "outputs": [
    {
     "name": "stdout",
     "output_type": "stream",
     "text": [
      "hello world\n"
     ]
    }
   ],
   "source": [
    "print(\"hello world\")"
   ]
  },
  {
   "cell_type": "code",
   "execution_count": 1,
   "id": "20230c25-28c5-44f1-8cec-bcdce5be349b",
   "metadata": {},
   "outputs": [
    {
     "name": "stdout",
     "output_type": "stream",
     "text": [
      "hello world\n"
     ]
    }
   ],
   "source": [
    "print(\"hello world\")"
   ]
  },
  {
   "cell_type": "code",
   "execution_count": 1,
   "id": "fa6f096d-f16d-4e85-88fe-ecda0cfa987d",
   "metadata": {},
   "outputs": [
    {
     "name": "stdout",
     "output_type": "stream",
     "text": [
      "hello world\n"
     ]
    }
   ],
   "source": [
    "print(\"hello world\")"
   ]
  },
  {
   "cell_type": "code",
   "execution_count": 1,
   "id": "adacbf9c-e92c-4bbf-b08e-cba5fb803f00",
   "metadata": {},
   "outputs": [
    {
     "name": "stdout",
     "output_type": "stream",
     "text": [
      "hello world\n"
     ]
    }
   ],
   "source": [
    "print(\"hello world\")"
   ]
  },
  {
   "cell_type": "code",
   "execution_count": 1,
   "id": "120ab00f-2823-4442-83e6-21980b897003",
   "metadata": {},
   "outputs": [
    {
     "name": "stdout",
     "output_type": "stream",
     "text": [
      "hello world\n"
     ]
    }
   ],
   "source": [
    "print(\"hello world\")"
   ]
  }
 ],
 "metadata": {
  "kernelspec": {
   "display_name": "Python 3 (ipykernel)",
   "language": "python",
   "name": "python3"
  },
  "language_info": {
   "codemirror_mode": {
    "name": "ipython",
    "version": 3
   },
   "file_extension": ".py",
   "mimetype": "text/x-python",
   "name": "python",
   "nbconvert_exporter": "python",
   "pygments_lexer": "ipython3",
   "version": "3.10.12"
  }
 },
 "nbformat": 4,
 "nbformat_minor": 5
}
