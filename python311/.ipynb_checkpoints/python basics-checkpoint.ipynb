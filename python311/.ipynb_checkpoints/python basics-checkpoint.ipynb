{
 "cells": [
  {
   "cell_type": "code",
   "execution_count": 1,
   "id": "0f33ebea-0936-4a5e-ba5e-4dcef0fed2db",
   "metadata": {},
   "outputs": [
    {
     "name": "stdout",
     "output_type": "stream",
     "text": [
      "hello world\n"
     ]
    }
   ],
   "source": [
    "print(\"hello world\")                  # first python program!"
   ]
  },
  {
   "cell_type": "code",
   "execution_count": 2,
   "id": "50b05330-6a13-4fb5-8974-20d1e830a4a6",
   "metadata": {},
   "outputs": [
    {
     "name": "stdout",
     "output_type": "stream",
     "text": [
      "this is a triangle:\n",
      "   /|\n",
      "  / |\n",
      " /  |\n",
      "/___|\n"
     ]
    }
   ],
   "source": [
    "print(\"this is a triangle:\")\n",
    "print(\"   /|\")\n",
    "print(\"  / |\")\n",
    "print(\" /  |\")\n",
    "print(\"/___|\")"
   ]
  },
  {
   "cell_type": "code",
   "execution_count": 5,
   "id": "27dabbe8-2243-476b-928d-13e0dfe16289",
   "metadata": {},
   "outputs": [
    {
     "name": "stdout",
     "output_type": "stream",
     "text": [
      "i like someone :O\n",
      "his name is isaac\n",
      "we're the same age, 21\n",
      "but in 10 years, we'll be 31\n"
     ]
    }
   ],
   "source": [
    "name = \"isaac\"\n",
    "age = \"21\"\n",
    "print(\"i like someone :O\")\n",
    "print(\"his name is \" + name)\n",
    "print(\"we're the same age, \" + age)\n",
    "\n",
    "age = \"31\"\n",
    "print(\"but in 10 years, we'll be \" + age)\n",
    "\n",
    "# print(3*4+5)\n",
    "# print(2.04789)\n",
    "# print(10 % 3)"
   ]
  },
  {
   "cell_type": "code",
   "execution_count": 6,
   "id": "64caa0f5-6da1-4083-bd71-6d262d76752c",
   "metadata": {},
   "outputs": [],
   "source": [
    "# other data types:\n",
    "score = 40                 # int\n",
    "is_male = True             # bool\n",
    "sentence = \"meow meow\"     # string"
   ]
  },
  {
   "cell_type": "code",
   "execution_count": 10,
   "id": "6e1c4d68-e13c-4b64-85a2-5adfeda2b500",
   "metadata": {},
   "outputs": [
    {
     "name": "stdout",
     "output_type": "stream",
     "text": [
      "MEOW \" MEOWMEOW\n",
      "MEOW\n"
     ]
    }
   ],
   "source": [
    "# string thingies\n",
    "sentence = \"meow \\\" meow\"\n",
    "sentence2 = \"meow\\nmeow\"\n",
    "print((sentence + sentence2).upper())\n",
    "\n",
    "# sentence.lower()\n",
    "# sentence.isupper()\n",
    "# sentence.lower().isupper : FALSE\n",
    "# len(phrase)\n",
    "# sentence[0]     <- index of the character\n",
    "# sentence.index(\"meow\")        <- gives index where the thing you're searching starts\n",
    "# sentence.replace(\"meow\",\"arf\")"
   ]
  },
  {
   "cell_type": "code",
   "execution_count": 12,
   "id": "9473a660-e1b6-44f0-857f-960c3da3c2b3",
   "metadata": {},
   "outputs": [
    {
     "name": "stdout",
     "output_type": "stream",
     "text": [
      "5\n",
      "meow \" meow5\n"
     ]
    }
   ],
   "source": [
    "my_num = 5\n",
    "print(str(my_num))\n",
    "# print(sentence + my_num) -> error\n",
    "print(sentence + str(my_num))\n",
    "\n",
    "# pow(4,2)\n",
    "# max(4,6)\n",
    "# min(4,6)\n",
    "# round(47.8)"
   ]
  },
  {
   "cell_type": "code",
   "execution_count": 1,
   "id": "d82b0fe7-5253-4d28-8cb8-590ec3df5b2a",
   "metadata": {},
   "outputs": [
    {
     "name": "stdout",
     "output_type": "stream",
     "text": [
      "hello world\n"
     ]
    }
   ],
   "source": [
    "from math import *      # import python math\n",
    "\n",
    "# floor(4.5)\n",
    "# ceil(4.5)\n",
    "# sqrt(36)"
   ]
  },
  {
   "cell_type": "code",
   "execution_count": 15,
   "id": "842cd1df-aea7-4da5-a19a-f571f4bfc9e6",
   "metadata": {},
   "outputs": [
    {
     "name": "stdin",
     "output_type": "stream",
     "text": [
      "what's the weather like? \n",
      " hot\n"
     ]
    },
    {
     "name": "stdout",
     "output_type": "stream",
     "text": [
      "wow, it's hot there!\n"
     ]
    }
   ],
   "source": [
    "weather = input(\"what's the weather like? \\n\")\n",
    "print(\"wow, it's \" + weather + \" there!\")"
   ]
  },
  {
   "cell_type": "code",
   "execution_count": 19,
   "id": "51b29487-4200-4593-a6ca-443748ec38d9",
   "metadata": {},
   "outputs": [
    {
     "name": "stdin",
     "output_type": "stream",
     "text": [
      "give the first number:  2\n",
      "give the second number:  3.5\n"
     ]
    },
    {
     "name": "stdout",
     "output_type": "stream",
     "text": [
      "the sum is: 5.5\n"
     ]
    }
   ],
   "source": [
    "num1 = input(\"give the first number: \")\n",
    "num2 = input(\"give the second number: \")\n",
    "print(\"the sum is: \" + str(float(num1) + float(num2)))          # python saves input as strings by default "
   ]
  },
  {
   "cell_type": "code",
   "execution_count": 7,
   "id": "ad1dee7b-cb49-4be2-a7f4-c5685e5d48d4",
   "metadata": {},
   "outputs": [
    {
     "name": "stdout",
     "output_type": "stream",
     "text": [
      "['ryan', 'chrystea', 'isaac']\n",
      "isaac\n",
      "['ryan', 'chrystea']\n"
     ]
    }
   ],
   "source": [
    "# LISTS\n",
    "friends = [\"ryan\", \"chrystea\", \"isaac\"]\n",
    "funsies = [\"phanida\", 2, True]\n",
    "print(friends)\n",
    "print(friends[2])   # same as print(friends[-1])\n",
    "print(friends[0:2]) # from 0 to 2, but not including 2\n",
    "funsies[1] = 13"
   ]
  },
  {
   "cell_type": "code",
   "execution_count": 8,
   "id": "13798837-920c-4710-a1d9-c4c4e510e5fc",
   "metadata": {},
   "outputs": [
    {
     "data": {
      "text/plain": [
       "['ryan', 'yu ling', 'chrystea', 'isaac', 13, True]"
      ]
     },
     "execution_count": 8,
     "metadata": {},
     "output_type": "execute_result"
    }
   ],
   "source": [
    "lucky_numbers = [1,2,3,4,5]\n",
    "friends.extend(funsies)\n",
    "friends.append(\"nitcha\")           # destructive\n",
    "friends.insert(1,\"yu ling\")        # position, value\n",
    "friends.remove(\"phanida\")          # only removes first instance\n",
    "friends.pop()                      # removes final element\n",
    "friends.index(\"phanida\")           # returns index of item\n",
    "friends.count(True)                # counts all instances of item\n",
    "lucky_numbers.sort()               # sorts number\n",
    "lucky_numbers.reverse()            # reverses item order\n",
    "lucky_2 = lucky_numbers.copy()     # copy list to another variable\n",
    "friends"
   ]
  },
  {
   "cell_type": "code",
   "execution_count": 13,
   "id": "a103f974-c670-4c7b-a64b-97bfd5a82cc4",
   "metadata": {},
   "outputs": [
    {
     "name": "stdout",
     "output_type": "stream",
     "text": [
      "(4, 5)\n"
     ]
    }
   ],
   "source": [
    "# TUPLES\n",
    "coordinates = (4,5)      # always use round brackets vs list which uses square bracket\n",
    "# tuples are immutable\n",
    "print(coordinates[0:2])\n",
    "coordinates = [(4,5),(6,7),(8,9)]      # list of tuples"
   ]
  },
  {
   "cell_type": "code",
   "execution_count": 15,
   "id": "c82c1b23-4a5c-441f-a241-45d55411a18f",
   "metadata": {},
   "outputs": [
    {
     "name": "stdin",
     "output_type": "stream",
     "text": [
      "What is your name?\n",
      " phavanee\n"
     ]
    },
    {
     "name": "stdout",
     "output_type": "stream",
     "text": [
      "Hello, phavanee!\n"
     ]
    }
   ],
   "source": [
    "# FUNCTIONS\n",
    "def sayhello():\n",
    "    name = input(\"What is your name?\\n\")\n",
    "    print(\"Hello, \" + name + \"!\")\n",
    "\n",
    "sayHello()"
   ]
  },
  {
   "cell_type": "code",
   "execution_count": 17,
   "id": "20230c25-28c5-44f1-8cec-bcdce5be349b",
   "metadata": {},
   "outputs": [
    {
     "name": "stdout",
     "output_type": "stream",
     "text": [
      "5 is not greater than 6\n"
     ]
    }
   ],
   "source": [
    "def isgreater(n1,n2):\n",
    "    if(n1 > n2):\n",
    "        print(str(n1) + \" is greater than \" + str(n2))\n",
    "    else:\n",
    "        print(str(n1) + \" is not greater than \" + str(n2))\n",
    "\n",
    "isgreater(5,6)"
   ]
  },
  {
   "cell_type": "code",
   "execution_count": 20,
   "id": "fa6f096d-f16d-4e85-88fe-ecda0cfa987d",
   "metadata": {},
   "outputs": [
    {
     "name": "stdout",
     "output_type": "stream",
     "text": [
      "True\n"
     ]
    }
   ],
   "source": [
    "def can_alcohol(age):\n",
    "    if(age > 21):\n",
    "        return True\n",
    "    else:\n",
    "        return False               # return breaks control out of function\n",
    "\n",
    "print(can_alcohol(32))"
   ]
  },
  {
   "cell_type": "code",
   "execution_count": 1,
   "id": "adacbf9c-e92c-4bbf-b08e-cba5fb803f00",
   "metadata": {},
   "outputs": [
    {
     "name": "stdin",
     "output_type": "stream",
     "text": [
      "is it cold? no\n",
      "is it rainy? yes\n"
     ]
    },
    {
     "name": "stdout",
     "output_type": "stream",
     "text": [
      "you should wear thicker clothing\n"
     ]
    }
   ],
   "source": [
    "temp = input(\"is it cold?\")\n",
    "weather = input(\"is it rainy?\")\n",
    "if (temp == \"yes\" or weather == \"yes\"):                   # and\n",
    "    print(\"you should wear thicker clothing\")             # not(True)  -> negation\n",
    "else:                                                     # elif -> else if\n",
    "    print(\"dress as usual\")"
   ]
  },
  {
   "cell_type": "code",
   "execution_count": 3,
   "id": "120ab00f-2823-4442-83e6-21980b897003",
   "metadata": {},
   "outputs": [
    {
     "data": {
      "text/plain": [
       "3"
      ]
     },
     "execution_count": 3,
     "metadata": {},
     "output_type": "execute_result"
    }
   ],
   "source": [
    "# IF STATEMENTS AND COMPARISONS\n",
    "def maxnum(a,b,c):\n",
    "    if a>=b and a>=c:\n",
    "        return a\n",
    "    elif b>=a and b>=c:\n",
    "        return b\n",
    "    else:\n",
    "        return c\n",
    "\n",
    "maxnum(3,3,3)\n",
    "\n",
    "# COMPARISON FOR STRINGS, BOOLEANS IS ALSO OKAY\n",
    "# !=, ==, >, < etc"
   ]
  },
  {
   "cell_type": "code",
   "execution_count": 8,
   "id": "44b7fc17-323c-42aa-913b-398c7e9300a2",
   "metadata": {},
   "outputs": [
    {
     "name": "stdin",
     "output_type": "stream",
     "text": [
      "Enter first number:  5\n",
      "Enter the operator:  \n",
      "Enter second number:  0\n"
     ]
    },
    {
     "name": "stdout",
     "output_type": "stream",
     "text": [
      "error! unavailable operator\n"
     ]
    }
   ],
   "source": [
    "a = float(input(\"Enter first number: \"))\n",
    "op = input(\"Enter the operator: \")\n",
    "b = float(input(\"Enter second number: \"))\n",
    "\n",
    "if op == \"+\":\n",
    "    print(a+b)\n",
    "elif op == \"-\":\n",
    "    print(a-b)\n",
    "elif op == \"*\" or op == \"x\":\n",
    "    print(a*b)\n",
    "elif op == \"/\":\n",
    "    print(a/b)\n",
    "else:\n",
    "    print(\"error! unavailable operator\")"
   ]
  },
  {
   "cell_type": "code",
   "execution_count": 13,
   "id": "cf0c1500-ae9b-40cf-8cf8-52c94d4c8a18",
   "metadata": {},
   "outputs": [
    {
     "name": "stdout",
     "output_type": "stream",
     "text": [
      "november\n",
      "not a valid key\n"
     ]
    }
   ],
   "source": [
    "# DICTIONARIES\n",
    "# hash keys or hash tables basically\n",
    "\n",
    "monthConverter = {\n",
    "    \"jan\": \"january\",\n",
    "    \"feb\": \"february\",\n",
    "    \"mar\": \"march\",\n",
    "    \"apr\": \"april\",\n",
    "    \"may\": \"may\",\n",
    "    \"jun\": \"june\",\n",
    "    \"jul\": \"july\",\n",
    "    \"aug\": \"august\",\n",
    "    \"sep\": \"september\",\n",
    "    \"oct\": \"october\",\n",
    "    \"nov\": \"november\",\n",
    "    \"dec\": \"december\"\n",
    "}\n",
    "\n",
    "print(monthConverter[\"nov\"])\n",
    "print(monthConverter.get(\"ree\", \"not a valid key\"))"
   ]
  },
  {
   "cell_type": "code",
   "execution_count": 15,
   "id": "43bae8ba-da97-47e1-a6c6-3e4f0111edba",
   "metadata": {},
   "outputs": [
    {
     "name": "stdout",
     "output_type": "stream",
     "text": [
      "0\n",
      "1\n",
      "2\n",
      "3\n",
      "4\n",
      "5\n",
      "6\n",
      "7\n",
      "8\n",
      "9\n",
      "10\n",
      "loop over\n"
     ]
    }
   ],
   "source": [
    "# WHILE LOOP\n",
    "count = 0\n",
    "while count <= 10:\n",
    "    print(count)\n",
    "    count += 1\n",
    "print(\"loop over\")    "
   ]
  },
  {
   "cell_type": "code",
   "execution_count": 20,
   "id": "8e5919f5-5e53-490a-b0ee-c4f99844650a",
   "metadata": {},
   "outputs": [
    {
     "name": "stdin",
     "output_type": "stream",
     "text": [
      "guess who i like:  meow\n"
     ]
    },
    {
     "name": "stdout",
     "output_type": "stream",
     "text": [
      "wrong guess! 2 tries left\n"
     ]
    },
    {
     "name": "stdin",
     "output_type": "stream",
     "text": [
      "guess who i like:  meow\n"
     ]
    },
    {
     "name": "stdout",
     "output_type": "stream",
     "text": [
      "wrong guess! 1 tries left\n"
     ]
    },
    {
     "name": "stdin",
     "output_type": "stream",
     "text": [
      "guess who i like:  isaac\n"
     ]
    },
    {
     "name": "stdout",
     "output_type": "stream",
     "text": [
      "great job! you win\n"
     ]
    }
   ],
   "source": [
    "# GUESSING GAME\n",
    "tries = 0\n",
    "secret_word = \"isaac\"\n",
    "while tries <= 3:\n",
    "    guess = input(\"guess who i like: \")\n",
    "    if guess != secret_word:\n",
    "        tries += 1\n",
    "        print(\"wrong guess! \" + str((3 - tries)) + \" tries left\")\n",
    "    else:\n",
    "        print(\"great job! you win\")\n",
    "        tries = 4\n",
    "        "
   ]
  },
  {
   "cell_type": "code",
   "execution_count": 24,
   "id": "9221e16d-2914-44c0-89c8-9329ba404a5f",
   "metadata": {},
   "outputs": [
    {
     "name": "stdout",
     "output_type": "stream",
     "text": [
      "w\n",
      "h\n",
      "a\n",
      "t\n",
      " \n",
      "t\n",
      "h\n",
      "e\n",
      " \n",
      "h\n",
      "e\n",
      "l\n",
      "l\n",
      "phanida\n",
      "ryan\n",
      "chrys\n",
      "0\n",
      "1\n",
      "2\n",
      "3\n",
      "4\n",
      "5\n",
      "6\n",
      "7\n",
      "8\n",
      "9\n",
      "3\n",
      "4\n",
      "5\n",
      "6\n",
      "7\n",
      "8\n",
      "9\n"
     ]
    }
   ],
   "source": [
    "# FOR LOOP\n",
    "for letter in \"what the hell\":\n",
    "    print(letter)                        # WHY DOES IT WORK THIS WAY????????\n",
    "\n",
    "for friend in [\"phanida\",\"ryan\",\"chrys\"]:\n",
    "    print(friend)                        # sorcery???\n",
    "\n",
    "for index in range(10):\n",
    "    print(index)                         # it's not printing the index right?? im so confused\n",
    "\n",
    "for index in range(3,10):\n",
    "    print(index)                         # 3,4,5,6,7,8,9\n",
    "\n",
    "friends = [\"phanida\",\"ryan\",\"chrys\"]     # list of friends\n",
    "for index in range(len(friends)):        # len(friends) = 3. so for index in range of 3 (meaning from 0 to 2)\n",
    "    print(friends[index])                # print friends[0], friends[1], friends[2]\n",
    "    \n",
    "# In Python, the loop does not increment i, instead it assigns it values from the iterable object (in this case, list). Therefore, changing i inside the for loop does not \"confuse\" the loop, since in the next iteration i will simply be assigned the next value."
   ]
  },
  {
   "cell_type": "code",
   "execution_count": 28,
   "id": "8ea6ef27-613e-460a-8175-adb4c19f402c",
   "metadata": {},
   "outputs": [
    {
     "name": "stdout",
     "output_type": "stream",
     "text": [
      "8\n"
     ]
    },
    {
     "data": {
      "text/plain": [
       "27"
      ]
     },
     "execution_count": 28,
     "metadata": {},
     "output_type": "execute_result"
    }
   ],
   "source": [
    "# exponent function\n",
    "print(2**3)         # 2 power of 3\n",
    "\n",
    "def raise_to_power(base_num,power_num):\n",
    "    res = 1\n",
    "    for i in range(power_num):\n",
    "        res *= base_num\n",
    "    return res\n",
    "\n",
    "raise_to_power(3,3)"
   ]
  },
  {
   "cell_type": "code",
   "execution_count": 36,
   "id": "a10cc24d-a0aa-4c6a-a0ca-6a36bbc6bf8b",
   "metadata": {},
   "outputs": [
    {
     "name": "stdout",
     "output_type": "stream",
     "text": [
      "1\n",
      "26\n",
      "1\n",
      "1\n",
      "21\n",
      "3\n",
      "26\n",
      "26\n"
     ]
    }
   ],
   "source": [
    "# 2D LISTS AND NESTED LOOPS\n",
    "birthdays = [\n",
    "    [1,1,21],     # jan birthdays\n",
    "    [3,26,26]     # mar birthdays\n",
    "]\n",
    "\n",
    "print(birthdays[0][1])            # on the first month, date of first\n",
    "print(birthdays[1][1])            # 2nd month 1st birthday\n",
    "\n",
    "for row in birthdays:\n",
    "    for column in row:\n",
    "        print(column)             \n",
    "\n",
    "# for element in item\n",
    "# remember that what python does is literally just take each element, and then print it\n",
    "# DONT THINK TOO MUCH ABOUT IT"
   ]
  },
  {
   "cell_type": "code",
   "execution_count": 40,
   "id": "4bbab4f7-1b35-4e7d-9869-e7d9a4ae5bda",
   "metadata": {},
   "outputs": [
    {
     "data": {
      "text/plain": [
       "'UACGGCAUUAC*AUAGGUCA'"
      ]
     },
     "execution_count": 40,
     "metadata": {},
     "output_type": "execute_result"
    }
   ],
   "source": [
    "# TRANSLATOR\n",
    "def translate(dna_sequence):\n",
    "    translation = \"\"\n",
    "    for base in dna_sequence:\n",
    "        if base == \"A\":\n",
    "            translation += \"U\"\n",
    "        elif base == \"T\":\n",
    "            translation += \"A\"\n",
    "        elif base == \"G\":\n",
    "            translation += \"C\"\n",
    "        elif base == \"C\":\n",
    "            translation += \"G\"\n",
    "        else:\n",
    "            translation += \"*\"\n",
    "    return translation\n",
    "\n",
    "translate(\"ATGCCGTAATGJTATCCAGT\")\n",
    "\n",
    "# if letter in \"AEIOUaeiou\"             <- checks if letter is a vowel. very cool!"
   ]
  },
  {
   "cell_type": "code",
   "execution_count": 41,
   "id": "83955e1f-a3d2-4630-8c0a-1729ae5f1ac0",
   "metadata": {},
   "outputs": [
    {
     "data": {
      "text/plain": [
       "' multi-line comment\\nin python\\n'"
      ]
     },
     "execution_count": 41,
     "metadata": {},
     "output_type": "execute_result"
    }
   ],
   "source": [
    "# COMMENTS IN PYTHON\n",
    "''' multi-line comment\n",
    "in python\n",
    "'''\n",
    "# but this is recommended"
   ]
  },
  {
   "cell_type": "code",
   "execution_count": 45,
   "id": "846c6557-d0bc-4518-8102-06e8dfca9602",
   "metadata": {},
   "outputs": [
    {
     "name": "stdin",
     "output_type": "stream",
     "text": [
      "Enter a number:  r\n"
     ]
    },
    {
     "name": "stdout",
     "output_type": "stream",
     "text": [
      "invalid literal for int() with base 10: 'r'\n"
     ]
    }
   ],
   "source": [
    "# TRY EXCEPT (error validation)\n",
    "try:\n",
    "    number = int(input(\"Enter a number: \"))\n",
    "    print(number)\n",
    "except ZeroDivisionError:\n",
    "    print(\"division by zero\")\n",
    "except ValueError as err:\n",
    "    print(err)"
   ]
  },
  {
   "cell_type": "code",
   "execution_count": 69,
   "id": "067ec77d-fdab-457f-b65b-f6d8f74f50b4",
   "metadata": {},
   "outputs": [
    {
     "name": "stdout",
     "output_type": "stream",
     "text": [
      "True\n",
      "Jim - Salesman\n",
      "\n",
      "Dwight - Salesman\n",
      "\n",
      "Pam - Receptionist\n",
      "\n",
      "Michael - Manager\n",
      "\n",
      "Oscar - Accountant\n"
     ]
    }
   ],
   "source": [
    "employee_file = open(\"employees.txt\",\"r\")\n",
    "print(employee_file.readable())\n",
    "# print(employee_file.read())\n",
    "\n",
    "# print(employee_file.readline())\n",
    "# print(employee_file.readline())\n",
    "\n",
    "# print(employee_file.readlines())        # stores every line in a list separated by commas\n",
    "# print(employee_file.readlines()[1])     # access element of index 1\n",
    "\n",
    "for employee in employee_file.readlines():\n",
    "    print(employee)\n",
    "\n",
    "employee_file.close()\n",
    "# r - read\n",
    "# w - write\n",
    "# a - append\n",
    "# r+ - read and write"
   ]
  },
  {
   "cell_type": "code",
   "execution_count": 79,
   "id": "233277ff-ad19-47d1-83ee-a63a7941e886",
   "metadata": {},
   "outputs": [
    {
     "data": {
      "text/plain": [
       "48"
      ]
     },
     "execution_count": 79,
     "metadata": {},
     "output_type": "execute_result"
    }
   ],
   "source": [
    "# WRITING AND APPENDING TO FILES\n",
    "employee_file = open(\"employees.txt\",\"a\")\n",
    "employee_file.write(\"\\nToby - Human Resources\\nKelly - Customer Service\")\n",
    "\n",
    "# when writing to a file, if the file doesn't exist, it is automatically created"
   ]
  },
  {
   "cell_type": "code",
   "execution_count": 2,
   "id": "27332628-2211-4e3e-a3bc-514efd20cfe5",
   "metadata": {},
   "outputs": [
    {
     "ename": "AttributeError",
     "evalue": "module 'useful_tools' has no attribute 'roll_dice'",
     "output_type": "error",
     "traceback": [
      "\u001b[0;31m---------------------------------------------------------------------------\u001b[0m",
      "\u001b[0;31mAttributeError\u001b[0m                            Traceback (most recent call last)",
      "Cell \u001b[0;32mIn[2], line 3\u001b[0m\n\u001b[1;32m      1\u001b[0m \u001b[38;5;28;01mimport\u001b[39;00m \u001b[38;5;21;01museful_tools\u001b[39;00m\n\u001b[0;32m----> 3\u001b[0m \u001b[38;5;28mprint\u001b[39m(\u001b[43museful_tools\u001b[49m\u001b[38;5;241;43m.\u001b[39;49m\u001b[43mroll_dice\u001b[49m(\u001b[38;5;241m10\u001b[39m))\n",
      "\u001b[0;31mAttributeError\u001b[0m: module 'useful_tools' has no attribute 'roll_dice'"
     ]
    }
   ],
   "source": [
    "import useful_tools\n",
    "\n",
    "print(useful_tools.roll_dice(10))"
   ]
  },
  {
   "cell_type": "code",
   "execution_count": 4,
   "id": "37172ce1-8abf-4784-ad86-5b6fe3494af3",
   "metadata": {},
   "outputs": [
    {
     "data": {
      "text/plain": [
       "['/usr/lib/python310.zip',\n",
       " '/usr/lib/python3.10',\n",
       " '/usr/lib/python3.10/lib-dynload',\n",
       " '',\n",
       " '/home/kat/repos/beginning-python/python311/lib/python3.10/site-packages']"
      ]
     },
     "execution_count": 4,
     "metadata": {},
     "output_type": "execute_result"
    }
   ],
   "source": [
    "import sys\n",
    "sys.path"
   ]
  },
  {
   "cell_type": "code",
   "execution_count": 5,
   "id": "cb74c6e4-2a85-4c46-983f-5035a1779de8",
   "metadata": {},
   "outputs": [
    {
     "name": "stdout",
     "output_type": "stream",
     "text": [
      "Business\n"
     ]
    }
   ],
   "source": [
    "# CLASSES AND OBJECTS\n",
    "class Student:\n",
    "    def __init__(self, name, major, gpa, is_on_probation):\n",
    "        self.name = name\n",
    "        self.major = major\n",
    "        self.gpa = gpa\n",
    "        self.is_on_probation = is_on_probation\n",
    "\n",
    "student1 = Student(\"Jim\", \"Business\", 3.1, False)\n",
    "\n",
    "print(student1.major)"
   ]
  },
  {
   "cell_type": "code",
   "execution_count": 14,
   "id": "bd59cab7-62c1-4553-8873-400c55ef131d",
   "metadata": {
    "scrolled": true
   },
   "outputs": [
    {
     "name": "stdout",
     "output_type": "stream",
     "text": [
      "What colour are apples?\n",
      "A. Red/Green\n",
      "B. Purple\n",
      "C. Orange\n",
      "\n",
      "\n"
     ]
    },
    {
     "name": "stdin",
     "output_type": "stream",
     "text": [
      "Choose the correct answer:  a\n"
     ]
    },
    {
     "name": "stdout",
     "output_type": "stream",
     "text": [
      "Correct!\n",
      "\n",
      "\n",
      "What colour are bananas?\n",
      "A. Teal\n",
      "B. Magenta\n",
      "C. Yellow\n",
      "\n",
      "\n"
     ]
    },
    {
     "name": "stdin",
     "output_type": "stream",
     "text": [
      "Choose the correct answer:  b\n"
     ]
    },
    {
     "name": "stdout",
     "output_type": "stream",
     "text": [
      "Wrong!\n",
      "\n",
      "\n",
      "What colour are strawberries?\n",
      "A. Yellow\n",
      "B. Red\n",
      "C. Blue\n",
      "\n",
      "\n"
     ]
    },
    {
     "name": "stdin",
     "output_type": "stream",
     "text": [
      "Choose the correct answer:  b\n"
     ]
    },
    {
     "name": "stdout",
     "output_type": "stream",
     "text": [
      "Correct!\n",
      "\n",
      "\n"
     ]
    },
    {
     "data": {
      "text/plain": [
       "66.66666666666666"
      ]
     },
     "execution_count": 14,
     "metadata": {},
     "output_type": "execute_result"
    }
   ],
   "source": [
    "# MULTIPLE CHOICE QUIZ\n",
    "class Question:                                   # define a class called Question. the class has properties question and answer\n",
    "    def __init__(self,question,answer):\n",
    "        self.question = question\n",
    "        self.answer = answer\n",
    "\n",
    "question_prompts = [                              # these are all the questions we have (question prompts) in a list of strings\n",
    "    \"What colour are apples?\\nA. Red/Green\\nB. Purple\\nC. Orange\\n\\n\",\n",
    "    \"What colour are bananas?\\nA. Teal\\nB. Magenta\\nC. Yellow\\n\\n\",\n",
    "    \"What colour are strawberries?\\nA. Yellow\\nB. Red\\nC. Blue\\n\\n\"\n",
    "]\n",
    "\n",
    "questions = [                                     # in another list, create three questions with the answers together\n",
    "    Question(question_prompts[0],\"A\"),\n",
    "    Question(question_prompts[1],\"C\"),\n",
    "    Question(question_prompts[2],\"B\")\n",
    "]\n",
    "\n",
    "def run_test():\n",
    "    score = 0\n",
    "    for question in questions:\n",
    "        print(question.question)\n",
    "        choice = input(\"Choose the correct answer: \")\n",
    "        if choice.upper() == question.answer:\n",
    "            print(\"Correct!\\n\\n\")\n",
    "            score += 1\n",
    "        else:\n",
    "            print(\"Wrong!\\n\\n\")\n",
    "    return score\n",
    "\n",
    "def calc_score(score):\n",
    "    return score / len(questions) * 100\n",
    "    \n",
    "\n",
    "# run_test()\n",
    "score = run_test()\n",
    "calc_score(score)"
   ]
  },
  {
   "cell_type": "code",
   "execution_count": 17,
   "id": "02248edd-5f84-43e3-8928-c8b62d9dfd98",
   "metadata": {},
   "outputs": [
    {
     "name": "stdout",
     "output_type": "stream",
     "text": [
      "False\n"
     ]
    }
   ],
   "source": [
    "# CLASS FUNCTIONS\n",
    "class Student:\n",
    "    def __init__(self, name, major, gpa):\n",
    "        self.name = name\n",
    "        self.major = major\n",
    "        self.gpa = gpa\n",
    "\n",
    "    def on_honor_roll(self):\n",
    "        if self.gpa >= 3.5:\n",
    "            return True\n",
    "        else:\n",
    "            return False\n",
    "\n",
    "student1 = Student(\"Oscar\", \"Accounting\", 3.1)\n",
    "student2 = Student(\"Phyllis\", \"Business\", 3.8)\n",
    "\n",
    "print(student1.on_honor_roll())"
   ]
  },
  {
   "cell_type": "code",
   "execution_count": 22,
   "id": "e5e251e7-7604-43fc-b9e2-35b53588bcde",
   "metadata": {},
   "outputs": [
    {
     "name": "stdout",
     "output_type": "stream",
     "text": [
      "the chef makes a special dish\n",
      "the chef makes orange chicken\n"
     ]
    }
   ],
   "source": [
    "# INHERITANCE\n",
    "class Chef:\n",
    "    def make_chicken(self):\n",
    "        print(\"the chef makes a chicken\")\n",
    "    def make_salad(self):\n",
    "        print(\"the chef makes a salad\")\n",
    "    def make_special_dish(self):\n",
    "        print(\"the chef makes a special dish\")\n",
    "\n",
    "mychef = Chef()                                  # no parentheses is like you passing no self to the class so it doesnt knowthat youre trying to make an object from the class\n",
    "mychef.make_special_dish()\n",
    "\n",
    "class ChineseChef(Chef):                         # Chef in parentheses allows everything from chef to be inherited (methods and attr)\n",
    "    def make_special_dish(self):                     \n",
    "        print(\"the chef makes orange chicken\")   # this overwrites make_special_dish in normal chef\n",
    "    def make_fried_rice(self):\n",
    "        print(\"the chef makes fried rice\")\n",
    "\n",
    "mychinesechef = ChineseChef()\n",
    "mychinesechef.make_special_dish()                # no parentheses will cause it to just print the address of make_special_dish function"
   ]
  }
 ],
 "metadata": {
  "kernelspec": {
   "display_name": "Python 3 (ipykernel)",
   "language": "python",
   "name": "python3"
  },
  "language_info": {
   "codemirror_mode": {
    "name": "ipython",
    "version": 3
   },
   "file_extension": ".py",
   "mimetype": "text/x-python",
   "name": "python",
   "nbconvert_exporter": "python",
   "pygments_lexer": "ipython3",
   "version": "3.10.12"
  }
 },
 "nbformat": 4,
 "nbformat_minor": 5
}
