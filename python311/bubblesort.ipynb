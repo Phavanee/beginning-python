{
 "cells": [
  {
   "cell_type": "code",
   "execution_count": 1,
   "id": "a12aa52d-5cfb-4cc4-8e2b-2cb50446e3c3",
   "metadata": {},
   "outputs": [],
   "source": [
    "import numpy as np"
   ]
  },
  {
   "cell_type": "code",
   "execution_count": 2,
   "id": "90fc4b9b-24ce-4fb5-b0e4-64423be6ecae",
   "metadata": {},
   "outputs": [],
   "source": [
    "a = np.array([7,4,8,3,9])"
   ]
  },
  {
   "cell_type": "code",
   "execution_count": 11,
   "id": "ad9aff73-0c73-430b-8555-be006a28ac7f",
   "metadata": {},
   "outputs": [
    {
     "name": "stdout",
     "output_type": "stream",
     "text": [
      "[3 4 7 8 9]\n"
     ]
    }
   ],
   "source": [
    "for i in range(a.shape[0]-1):\n",
    "    for j in range(a.shape[0]-1):\n",
    "        if a[j] > a[j+1]:\n",
    "            temp = a[j]\n",
    "            a[j] = a[j+1]\n",
    "            a[j+1] = temp\n",
    "print(a)"
   ]
  }
 ],
 "metadata": {
  "kernelspec": {
   "display_name": "Python 3 (ipykernel)",
   "language": "python",
   "name": "python3"
  },
  "language_info": {
   "codemirror_mode": {
    "name": "ipython",
    "version": 3
   },
   "file_extension": ".py",
   "mimetype": "text/x-python",
   "name": "python",
   "nbconvert_exporter": "python",
   "pygments_lexer": "ipython3",
   "version": "3.10.12"
  }
 },
 "nbformat": 4,
 "nbformat_minor": 5
}
